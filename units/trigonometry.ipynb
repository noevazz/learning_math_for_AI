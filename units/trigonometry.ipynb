{
 "cells": [
  {
   "cell_type": "markdown",
   "id": "9c753a8c",
   "metadata": {},
   "source": [
    "# Trigonometry\n",
    "\n",
    "Trigonometry is a branch of mathematics that deals with the relationships between the angles and sides of triangles—especially right-angled triangles.\n",
    "\n",
    "Trigonometry comes from the Greek words:\n",
    "\n",
    "- \"trigonon\" = triangle\n",
    "- \"metron\" = measure\n",
    "\n",
    "![](../media/img/types_of_triangles.png)"
   ]
  },
  {
   "cell_type": "markdown",
   "id": "0ed9862c",
   "metadata": {},
   "source": [
    "##  Right Triangle Basics\n",
    "\n",
    "A right triangle has one angle equal to 90°. The other two angles are acute (less than 90°), and the three sides are:\n",
    "\n",
    "- Hypotenuse: The longest side (opposite the right angle)\n",
    "- Opposite: The side opposite the angle you're looking at\n",
    "- Adjacent: The side next to the angle you're looking at (not the hypotenuse)\n",
    "\n",
    "![](../media/img/right_triangle.png)\n"
   ]
  },
  {
   "cell_type": "markdown",
   "id": "f11b4fd4",
   "metadata": {},
   "source": [
    "## The Trigonometric Ratios\n",
    "Right triangles can have different length in their sides and still be right triangles:\n",
    "\n",
    "![](../media/img/right_triangles_different_sizes.png)\n",
    "\n",
    "All triangles above are right triangles because they all have a right angle.\n",
    "\n",
    "A ratio is just a comparison of two numbers. In trigonometry, we compare lengths of sides in a right triangle.\n",
    "\n",
    "As you can see, modifying the size of the sides also modifies the angles (except for the right angle), the relationship between two side and the angle formed is expressed with three primary trigonometric functions:\n",
    "\n",
    "|Function\t             |value                         |Description|\n",
    "|------------------------|------------------------------|-----------|\n",
    "|Sine (sin for short)\t |sin(θ) = opposite / hypotenuse|Tells you how “tall” the triangle is compared to its hypotenuse, from angle θ’s perspective.|\n",
    "|Cosine (cos for short)\t |cos(θ) = adjacent / hypotenuse|Tells you how “wide” the triangle is compared to its hypotenuse, from angle θ’s perspective.|\n",
    "|Tangent (tan for short) |tan(θ) = opposite / adjacent  |Tells you the ratio between height and width from θ’s view—kind of like the “steepness” of a slope.|\n",
    "\n",
    "The symbol θ is the \"theta\" letter in the greek alphabet, it is used to express the angle.\n",
    "\n",
    "Here are the reciprocal functions:\n",
    "\n",
    "|Function\t               |value                         |\n",
    "|--------------------------|------------------------------|\n",
    "|Cosecant (csc for short)  |csc(θ) = hypotenuse / opposite|\n",
    "|Secant (sec for short)\t   |sec(θ) = hypotenuse / adjacent|\n",
    "|Cotangent (cot for short) |cot(θ) = adjacent / opposite  |\n",
    "\n",
    "> Since these are reciprocal functions you can also express them as `sin⁻¹(θ)`, `cos⁻¹(θ)`, `tan⁻¹(θ)`"
   ]
  },
  {
   "cell_type": "markdown",
   "id": "8c60ea7b",
   "metadata": {},
   "source": [
    "Let's take a look again at the image we saw earlier:\n",
    "\n",
    "![](../media/img/right_triangles_different_sizes.png)\n",
    "\n",
    "There are some important thing to notice here:\n",
    "\n",
    "- The right angle remain the same regardless of the modifications.\n",
    "- Only the other two angles were the one that change when changing the sides length.\n",
    "\n",
    "**WHY IS THIS IMPORTANT?**\n",
    "\n",
    "It does NOT matter how much you modify the length of the side, AS LONG AS YOU KEEP THE SAME ANGLE THE RATIO WILL BE THE SAME:\n",
    "\n",
    "![](../media/img/triangle_resize.svg)\n",
    "\n",
    "Let's take the triangle at the bottom since is the one closer to your view, you can see we change the size of the sides but kept the angles, when we do this we are just basically scaling the triangle, therefore the ratio will be the same because at the end the ratio is just a division, it does not matter if we multiply the numerator and denominator by a scaling number, the result of the division will be the same.\n",
    "\n",
    "This is important because calculators are already built with common angles rations:\n",
    "\n",
    "![](../media/img/calculator_sin_30.png)\n"
   ]
  },
  {
   "cell_type": "markdown",
   "id": "e6fca43e",
   "metadata": {},
   "source": [
    "<a target=\"_blank\" href=\"https://colab.research.google.com/github/noevazz/learning_math_for_AI/blob/main/units/trigonometry.ipynb\">\n",
    "  <img src=\"https://colab.research.google.com/assets/colab-badge.svg\" alt=\"Open In Colab\"/>\n",
    "</a>"
   ]
  },
  {
   "cell_type": "markdown",
   "id": "5f4d676f",
   "metadata": {},
   "source": [
    "Another useful thing about this is that we can discover the length of the side giving some info.\n",
    "\n",
    "![](../media/img/right_triangle_90_45_45.svg)\n",
    "\n",
    "In the image above we have all the information but let's say we don't know the length for the opposite side.\n",
    "\n",
    "We can use the function that relates the opposite side with one of the neighbor sides. I will use sin:\n",
    "\n",
    "```\n",
    "sin(θ) = opposite/hypotenuse\n",
    "```\n",
    "\n",
    "now replace the known info:\n",
    "\n",
    "```\n",
    "sin(36.87) = opposite/5\n",
    "```\n",
    "\n",
    "Let opposite alone:\n",
    "\n",
    "```\n",
    "5*sin(36.87) = opposite\n",
    "```\n",
    "\n",
    "Use a calculator to get the result (I used python):\n",
    "\n",
    "```\n",
    ">>> 5*(math.sin(math.radians(36.87)))\n",
    "3.0000071456633126\n",
    ">>>\n",
    "```\n",
    "\n",
    "Now we found the the opposite side has a length of 3 (the decimals are there because of known [floating precision problem](https://dev.to/voliva/solving-the-floating-point-precision-problem-with-floats-4369))"
   ]
  },
  {
   "cell_type": "markdown",
   "id": "8fed2130",
   "metadata": {},
   "source": [
    "In case you want to try:"
   ]
  },
  {
   "cell_type": "code",
   "execution_count": null,
   "id": "ec3c5a13",
   "metadata": {
    "vscode": {
     "languageId": "plaintext"
    }
   },
   "outputs": [],
   "source": [
    "import math\n",
    "print(5*(math.sin(math.radians(36.87))))"
   ]
  },
  {
   "cell_type": "markdown",
   "id": "7d5ac01e",
   "metadata": {},
   "source": [
    "## Pi\n",
    "\n",
    "π≈3.14159…\n",
    "\n",
    "π is the ratio of a circle’s circumference to its diameter, and this is true for every circle, no matter how big or small.\n",
    "\n",
    "𝜋 = Circumference / Diameter\n",
    "\n",
    "![](../media/img/pi.gif)\n",
    "\n",
    "In the animation above you can see the diameter fits 3.14.... times in the circunference"
   ]
  },
  {
   "cell_type": "markdown",
   "id": "7330e26b",
   "metadata": {},
   "source": [
    "You can use get the value of PI using the math module in Python:"
   ]
  },
  {
   "cell_type": "code",
   "execution_count": null,
   "id": "cf17d423",
   "metadata": {
    "vscode": {
     "languageId": "plaintext"
    }
   },
   "outputs": [],
   "source": [
    "import math\n",
    "print(math.pi)"
   ]
  },
  {
   "cell_type": "markdown",
   "id": "efa9eb33",
   "metadata": {},
   "source": [
    "## Radians\n",
    "\n",
    "A radian is another way to measure angles, just like degrees—but it's based on the geometry of a circle, not on dividing a circle into 360 parts.\n",
    "\n",
    "People are used to degrees, another unit of measure, which divide a circle into 360 equal parts:\n",
    "\n",
    "![protractor.jpg](../media/img/protractor.jpg)\n",
    "\n",
    "> A protractor is shown in the image above, it is a geometric tool used to measure angles. It typically consists of a semi-circular or full-circle transparent plastic or metal device with markings from 0 to 180 degrees or 0 to 360 degrees. In spanish it is called \"transportador\".\n",
    "\n",
    "Radians measure angles **based on the radius** of a circle.\n",
    "\n",
    "### What is a radian\n",
    "\n",
    "In simple terms, if you were to wrap the circumference of a circle around its radius, it would equal 2π radians.\n",
    "\n",
    "This means that there are 2π radians in a full circle, which is equivalent to 360°.\n",
    "\n",
    "![radian.gif](../media/img/radian.gif)\n",
    "\n",
    "180° is equal to 3.14159265358.... radians, in other words πRAD.\n",
    "\n",
    "360° is equal to 2(3.14159265358....) radians, in other words 2πRAD.\n",
    "\n"
   ]
  }
 ],
 "metadata": {
  "language_info": {
   "name": "python"
  }
 },
 "nbformat": 4,
 "nbformat_minor": 5
}
