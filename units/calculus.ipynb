# Calculus

## Recommended Books

- Calculus I By W. Michael Kelley (https://learning.oreilly.com/library/view/calculus-i/9781465454126/).

## What Is Calculus

Calculus is a branch of mathematics that deals with the study of change and accumulation of quantities.

It provides tools and methods for understanding how quantities change over time or space.

Calculus involves concepts such as limits, derivatives, and integrals.

## Limits

A limit is used to describe the behavior of a function as its input approaches a certain value.

```
lim f(x) = L
x➜c
```

This means that the function `f(x)` approaches the value `L` as `x` gets closer and closer to `c`.

Limits are essential in calculus for defining continuity.

Example:

```
f(x) = 2x + 5
```

Find the limit:

```
lim f(x)
x➜3
```

Let's see the behavior of the function as we approach to `3`:

```
f(2.7) = 2(2.7) + 5          = 10.4
f(2.8) = 2(2.8) + 5          = 10.6
f(2.9) = 2(2.9) + 5          = 10.8
f(2.98) = 2(2.98) + 5        = 10.96
f(2.99) = 2(2.99) + 5        = 10.98
f(2.99999) = 2(2.99999) + 5  = 10.9998
```

We can see we the value approaches to `11` as we get closer to `f(3)`

![important.gif](../media/img/important.gif)

**IMPORTANT: A limit is an intended height of a function at a given value of `x`. WHETHER OR NOT IT ACTUALLY REACHES IT**

In this case:

```
lim 2x + 5  =  11
x➜3
```

Another example:

```
        1
f(x) = ---
       1-x
```

Find:

```
lim f(x)
x➜1
```

If you plug `1` into the function you will end up with an indetermination:

```
        1        1
f(1) = ---   =  ---
       1-1       0
```

But what happen to the function when we **approach** `1`:

As `x` approaches `1` from the left side, `x` becomes slightly smaller than `1`. So, `1/(1-x) ` becomes slightly positive. Therefore, `1/(1-x) ` approaches positive infinity.

As xx approaches 1 from the right side, xx becomes slightly larger than 1. So, 1−x1−x becomes slightly negative. Therefore, 11−x1−x1​ approaches negative infinity.

Since the left-hand and right-hand limits approach different values as xx approaches 1, the overall limit does not exist. We say the limit is "undefined" or "does not exist."