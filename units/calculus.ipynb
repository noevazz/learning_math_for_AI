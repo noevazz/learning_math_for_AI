{
 "cells": [
  {
   "cell_type": "markdown",
   "id": "747196fd",
   "metadata": {},
   "source": [
    "# Calculus\n",
    "\n",
    "## Recommended Books\n",
    "\n",
    "- Calculus I By W. Michael Kelley (https://learning.oreilly.com/library/view/calculus-i/9781465454126/)."
   ]
  },
  {
   "cell_type": "markdown",
   "id": "cf51d9ca",
   "metadata": {},
   "source": [
    "## What Is Calculus\n",
    "\n",
    "Calculus is a branch of mathematics that deals with the study of change and accumulation of quantities.\n",
    "\n",
    "It provides tools and methods for understanding how quantities change over time or space.\n",
    "\n",
    "Calculus involves concepts such as limits, derivatives, and integrals."
   ]
  },
  {
   "cell_type": "markdown",
   "id": "6d1a85b8",
   "metadata": {},
   "source": [
    "## Limits\n",
    "\n",
    "A limit is used to describe the behavior of a function as its input approaches a certain value.\n",
    "\n",
    "```\n",
    "lim f(x) = L\n",
    "x➜c\n",
    "```\n",
    "\n",
    "This means that the function `f(x)` approaches the value `L` as `x` gets closer and closer to `c`.\n",
    "\n",
    "Limits are essential in calculus for defining continuity.\n",
    "\n",
    "Example:\n",
    "\n",
    "```\n",
    "f(x) = 2x + 5\n",
    "```\n",
    "\n",
    "Find the limit:\n",
    "\n",
    "```\n",
    "lim f(x)\n",
    "x➜3\n",
    "```\n",
    "\n",
    "Let's see the behavior of the function as we approach to `3`:\n",
    "\n",
    "```\n",
    "f(2.7) = 2(2.7) + 5          = 10.4\n",
    "f(2.8) = 2(2.8) + 5          = 10.6\n",
    "f(2.9) = 2(2.9) + 5          = 10.8\n",
    "f(2.98) = 2(2.98) + 5        = 10.96\n",
    "f(2.99) = 2(2.99) + 5        = 10.98\n",
    "f(2.99999) = 2(2.99999) + 5  = 10.9998\n",
    "```\n",
    "\n",
    "We can see we the value approaches to `11` as we get closer to `f(3)`"
   ]
  },
  {
   "cell_type": "markdown",
   "id": "f2e0ce47",
   "metadata": {},
   "source": [
    "\n",
    "![important.gif](../media/img/important.gif)\n",
    "\n",
    "**IMPORTANT: A limit is an intended height of a function at a given value of `x`. WHETHER OR NOT IT ACTUALLY REACHES IT**\n",
    "\n",
    "Example:\n",
    "\n",
    "```\n",
    "        1\n",
    "f(x) = ---\n",
    "       1-x\n",
    "```\n",
    "\n",
    "Find:\n",
    "\n",
    "```\n",
    "lim f(x)\n",
    "x➜1\n",
    "```\n",
    "\n",
    "If you plug `1` into the function you will end up with an indetermination:\n",
    "\n",
    "```\n",
    "        1        1\n",
    "f(1) = ---   =  ---\n",
    "       1-1       0\n",
    "```\n",
    "\n",
    "But what happen to the function when we **approach** `1`:\n",
    "\n",
    "As `x` approaches `1` from the left side, `x` becomes slightly smaller than `1`. So, `1/(1-x) ` becomes slightly positive. Therefore, `1/(1-x) ` approaches positive infinity.\n",
    "\n",
    "As `x` approaches 1 from the right side, `x` becomes slightly larger than 1. So, 1−x1−x becomes slightly negative. Therefore, 11−x1−x1​ approaches negative infinity.\n",
    "\n",
    "Since the left-hand and right-hand limits approach different values as `x` approaches 1, the overall limit does not exist. We say the limit is `undefined` or \"does not exist.\""
   ]
  }
 ],
 "metadata": {
  "language_info": {
   "name": "python"
  }
 },
 "nbformat": 4,
 "nbformat_minor": 5
}
