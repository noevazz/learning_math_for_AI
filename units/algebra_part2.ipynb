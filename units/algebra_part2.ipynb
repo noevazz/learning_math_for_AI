{
 "cells": [
  {
   "cell_type": "markdown",
   "id": "809a5563",
   "metadata": {},
   "source": [
    "<a target=\"_blank\" href=\"https://colab.research.google.com/github/noevazz/learning_math_for_AI/blob/main/units/algebra_part2.ipynb\">\n",
    "  <img src=\"https://colab.research.google.com/assets/colab-badge.svg\" alt=\"Open In Colab\"/>\n",
    "</a>"
   ]
  },
  {
   "cell_type": "markdown",
   "id": "946fb9a5",
   "metadata": {},
   "source": [
    "# Algebra Part 2"
   ]
  },
  {
   "cell_type": "markdown",
   "id": "6f5d3d2b",
   "metadata": {},
   "source": [
    "## Tensors\n",
    "\n",
    "Tensors are the most common data structure used in Machine Learning.\n",
    "\n",
    "A popular Python library to work with tensors is called `Tensorflow`. https://www.tensorflow.org\n",
    "\n",
    "> Tensor comes from a latin word which means stretch."
   ]
  },
  {
   "cell_type": "markdown",
   "id": "9b4ac1b5",
   "metadata": {},
   "source": [
    "If you want to install tensorflow please visit https://www.tensorflow.org/install/pip"
   ]
  },
  {
   "cell_type": "markdown",
   "id": "53ccf07d",
   "metadata": {},
   "source": [
    "### What Is A Tensor\n",
    "\n",
    "In simple words, tensors are arrays of numbers.\n",
    "\n",
    "Tensors are classified depending on the amount of dimensions.\n",
    "\n",
    "![shape_of_tensor.jpg](../media/img/shape_of_tensor.jpg)\n",
    "\n",
    "> When we have more than two indices to refer to a specific element in a data structures (or mathematical, structure) we stop treating them with special names like scalars, vectors, matrices etc. Instead we address them with a more generalized language, tensors.\n",
    "\n",
    "Let's see an example of each one using Python:"
   ]
  },
  {
   "cell_type": "code",
   "execution_count": 6,
   "id": "18f847e5",
   "metadata": {},
   "outputs": [
    {
     "name": "stdout",
     "output_type": "stream",
     "text": [
      "scalar: 4\n",
      "vector: [1, 2, 3]\n",
      "matrix: [[1, 2, 3], [4, 5, 6], [7, 8, 9]]\n",
      "tensor_rank_3: [[[1, 2], [3, 4]], [[5, 6], [7, 8]]]\n"
     ]
    }
   ],
   "source": [
    "scalar = 4\n",
    "\n",
    "vector = [1, 2, 3]\n",
    "\n",
    "matrix = [\n",
    "  [1, 2, 3],\n",
    "  [4, 5, 6],\n",
    "  [7, 8, 9]\n",
    "]\n",
    "\n",
    "tensor_rank_3 = [\n",
    "  [[1, 2], [3, 4]],\n",
    "  [[5, 6], [7, 8]]\n",
    "]\n",
    "\n",
    "print(\"scalar:\", scalar)\n",
    "print(\"vector:\", vector)\n",
    "print(\"matrix:\", matrix)\n",
    "print(\"tensor_rank_3:\", tensor_rank_3)"
   ]
  },
  {
   "cell_type": "markdown",
   "id": "d3f873cc",
   "metadata": {},
   "source": [
    "### Vectors\n",
    "\n",
    "Vectors represent a magnitude and direction from origin:\n",
    "\n",
    "```\n",
    "my_vector = [2, 3]\n",
    "```\n",
    "\n",
    "In this example:\n",
    "- my_vector[0] represents the value for the `x-axis` (2)\n",
    "- my_vector[1] represents the value for `y-axis` (3)\n",
    "\n",
    "![vector_2_3.png](../media/img/vector_2_3.png)\n",
    "\n",
    "Vectors can also be 3D:\n",
    "\n",
    "```\n",
    "vector3D = [2, 2, 3]\n",
    "#           x  y  z\n",
    "```"
   ]
  },
  {
   "cell_type": "markdown",
   "id": "10c30e5a",
   "metadata": {},
   "source": [
    "![3d_vector.png](../media/img/3d_vector.png)"
   ]
  },
  {
   "cell_type": "markdown",
   "id": "d84d389c",
   "metadata": {},
   "source": [
    "> I had to specify the origin (0,0,0) but that's just because the tool requires two points."
   ]
  },
  {
   "cell_type": "markdown",
   "id": "0f271068",
   "metadata": {},
   "source": [
    "### Norms\n",
    "\n",
    "Norms are ways to measure the magnitude of a tensor.\n",
    "\n",
    "The L2 Norm is used to measure the simple (euclidean) distance from origin:\n",
    "\n",
    "> In simple words, Euclidean geometry is the kind of geometry most people learn in school. It's the study of shapes, lines, angles, and space on a flat surface\n",
    "\n",
    "![l2norm.png](../media/img/l2norm.png)\n",
    "\n",
    "> Note: The L2 norm is usually denoted as `||x||₂`, but it can be denoted as `||x||` too\n",
    "\n",
    "> ALSO, note the image shows `xₙ` so no matter how many components (dimensions) your vector has, if you're calculating the Euclidean length, you always use 2 (red) if you want the magnitude."
   ]
  },
  {
   "cell_type": "markdown",
   "id": "892c7a3e",
   "metadata": {},
   "source": [
    "The magnitude for the vector `[2, 3, 3]` is:\n",
    "\n",
    "```\n",
    "||x||₁ = √(2² + 3² + 3²)\n",
    "```\n",
    "\n",
    "> The Lp Norm is actually part of the Approximation Theory, a branch of math."
   ]
  },
  {
   "cell_type": "markdown",
   "id": "4fc3c102",
   "metadata": {},
   "source": [
    "**IMPORTANT**: The vector `[2, 3, 3]` is a rank1 tensor, in programming is a 1-dimension array, **BUT**, in the context of mathematics the amount of items represent the amount of dimensions in space (or the coordinates in the plane if you think in 2D or 3D), so don't get confused with programming jargon and math jargon."
   ]
  },
  {
   "cell_type": "markdown",
   "id": "5f5396ef",
   "metadata": {},
   "source": [
    "Here is another example:\n",
    "\n",
    "> Note that I am setting the value for the z axis to 0 because the well known right triangle with the 3 and 4 for the side has 5 for the hypotenuse."
   ]
  },
  {
   "cell_type": "code",
   "execution_count": 9,
   "id": "7d573250",
   "metadata": {},
   "outputs": [
    {
     "name": "stdout",
     "output_type": "stream",
     "text": [
      "5.0\n"
     ]
    }
   ],
   "source": [
    "import math\n",
    "vector3D = [3, 4, 0]\n",
    "l2_norm = math.sqrt(sum(item*item for item in vector3D))\n",
    "print(l2_norm)"
   ]
  },
  {
   "cell_type": "markdown",
   "id": "12d0166c",
   "metadata": {},
   "source": [
    "Actually there's a lot of ways to do it in python:"
   ]
  },
  {
   "cell_type": "code",
   "execution_count": null,
   "id": "ff236cf1",
   "metadata": {},
   "outputs": [
    {
     "data": {
      "text/plain": [
       "4.497941445275415"
      ]
     },
     "execution_count": 1,
     "metadata": {},
     "output_type": "execute_result"
    }
   ],
   "source": [
    "((3**2)+(4**2)+(0**2))**(1/2)"
   ]
  },
  {
   "cell_type": "markdown",
   "id": "c5776892",
   "metadata": {},
   "source": [
    "> As mentioned earlier, it does not matter the amount of components in the array (3 in this example), if you want to calculate the magnitude (euclidean length) then you use `2`."
   ]
  },
  {
   "cell_type": "markdown",
   "id": "7a7f65b0",
   "metadata": {},
   "source": [
    "Using numpy:"
   ]
  },
  {
   "cell_type": "code",
   "execution_count": null,
   "id": "93762bf6",
   "metadata": {},
   "outputs": [
    {
     "name": "stdout",
     "output_type": "stream",
     "text": [
      "5.0\n"
     ]
    }
   ],
   "source": [
    "import numpy as np\n",
    "vector3D = [3, 4, 0]\n",
    "l2_norm = np.linalg.norm(vector3D, ord=2)\n",
    "print(l2_norm)"
   ]
  },
  {
   "cell_type": "markdown",
   "id": "13dff01e",
   "metadata": {},
   "source": [
    "Using tensor flow:"
   ]
  },
  {
   "cell_type": "code",
   "execution_count": 19,
   "id": "8618a750",
   "metadata": {},
   "outputs": [
    {
     "name": "stdout",
     "output_type": "stream",
     "text": [
      "5.0\n"
     ]
    }
   ],
   "source": [
    "import tensorflow as tf\n",
    "import numpy as np\n",
    "\n",
    "rank_1_tensor = tf.constant([3.0, 4.0, 0.0])\n",
    "l2_norm = tf.norm(rank_1_tensor, ord='euclidean', axis=None, keepdims=None, name=None)\n",
    "\n",
    "print(l2_norm.numpy())"
   ]
  },
  {
   "cell_type": "markdown",
   "id": "a456867f",
   "metadata": {},
   "source": [
    "#### L1 Norm\n",
    "\n",
    "The L1 norm adds all the components of the vector, L1 norm is also known as the Manhattan Distance\n",
    "\n",
    "![l1norm.png](../media/img/l1norm.png)"
   ]
  },
  {
   "cell_type": "code",
   "execution_count": 10,
   "id": "ea357168",
   "metadata": {},
   "outputs": [
    {
     "name": "stdout",
     "output_type": "stream",
     "text": [
      "7\n"
     ]
    }
   ],
   "source": [
    "vector3D = [3, 4, 0]\n",
    "l1_norm = sum(vector3D)\n",
    "print(l1_norm)"
   ]
  },
  {
   "cell_type": "markdown",
   "id": "0cee6f37",
   "metadata": {},
   "source": [
    "Using numpy:"
   ]
  },
  {
   "cell_type": "code",
   "execution_count": 12,
   "id": "3d20d4df",
   "metadata": {},
   "outputs": [
    {
     "name": "stdout",
     "output_type": "stream",
     "text": [
      "7.0\n"
     ]
    }
   ],
   "source": [
    "import numpy as np\n",
    "vector3D = [3, 4, 0]\n",
    "l1_norm = np.linalg.norm(vector3D, ord=1)\n",
    "print(l1_norm)"
   ]
  },
  {
   "cell_type": "markdown",
   "id": "0963632e",
   "metadata": {},
   "source": [
    "#### Lp and L infinite norm\n",
    "\n",
    "![lpnorm.jpg](../media/img/lpnorm.jpg)"
   ]
  },
  {
   "cell_type": "markdown",
   "id": "deb43bcd",
   "metadata": {},
   "source": [
    "Explanation of the each figure:\n",
    "\n",
    "- For L1 graph: If you take a vector of n elements (it does not matter how many), and you sat the L1 for that vector is equal to 1, then it means that the sum of any point is 1 (remember that the L1 norm is basically the sum of all components), that's why you see a diamond (in this example is a vector of 2 space dimensions), so any line from origin to the green line is a vector and the sum of the x-axis and y-axis values is 1 to meet the L1=1 criteria.\n",
    "\n",
    "- For l2 graph: In case you haven't noticed, the The Euclidean norm is just the application of the Pythagorean theorem, so a vector from origin to the green circle needs to have \"hypotenuse\" of 1, that's why you see a circle.\n",
    "\n",
    "- For Lp graph: the more components you have (more dimensions in space) then you are getting close to the max value. Using the Lp​ norm in the context of ML allows you to define different metrics to calculate the \"center\" of a data set depending on what you consider most relevant to your specific application. See below script to confirm, you will see a number similar to the max value:"
   ]
  },
  {
   "cell_type": "code",
   "execution_count": 8,
   "id": "52214fed",
   "metadata": {},
   "outputs": [
    {
     "data": {
      "text/plain": [
       "6.000000000724481"
      ]
     },
     "execution_count": 8,
     "metadata": {},
     "output_type": "execute_result"
    }
   ],
   "source": [
    "p = 100.0\n",
    "((3.0**p)+(4.0**p)+(5.0**p)+(6.0**p))**(1.0/p)"
   ]
  },
  {
   "cell_type": "markdown",
   "id": "357a6385",
   "metadata": {},
   "source": [
    "- The L∞ (max norm) norm returns the absolute value of the largest-magnitude element:\n",
    "\n",
    "```\n",
    "||x||∞ = max|xᵢ|\n",
    "          ᵢ\n",
    "```\n",
    "\n",
    "Calculate L infinite:"
   ]
  },
  {
   "cell_type": "code",
   "execution_count": 10,
   "id": "fd94c2e9",
   "metadata": {},
   "outputs": [
    {
     "data": {
      "text/plain": [
       "np.float64(3.0)"
      ]
     },
     "execution_count": 10,
     "metadata": {},
     "output_type": "execute_result"
    }
   ],
   "source": [
    "import numpy as np\n",
    "vector = np.array([2,2,3])\n",
    "np.linalg.norm(vector, ord=np.inf)"
   ]
  },
  {
   "cell_type": "markdown",
   "id": "a556a7b8",
   "metadata": {},
   "source": [
    "In the programming world is just iterating over the array and checking for the max value, or just the built-in max function:"
   ]
  },
  {
   "cell_type": "code",
   "execution_count": 14,
   "id": "7e9d4b6e",
   "metadata": {},
   "outputs": [
    {
     "data": {
      "text/plain": [
       "8"
      ]
     },
     "execution_count": 14,
     "metadata": {},
     "output_type": "execute_result"
    }
   ],
   "source": [
    "max(abs(x) for x in [2,2,-3,5,-6,0,-8,7,2])"
   ]
  },
  {
   "cell_type": "markdown",
   "id": "912a14d7",
   "metadata": {},
   "source": [
    "Or use Numpy:"
   ]
  },
  {
   "cell_type": "code",
   "execution_count": 9,
   "id": "70f27b50",
   "metadata": {},
   "outputs": [
    {
     "data": {
      "text/plain": [
       "np.float64(4.123105625617661)"
      ]
     },
     "execution_count": 9,
     "metadata": {},
     "output_type": "execute_result"
    }
   ],
   "source": [
    "import numpy as np\n",
    "vector3D = np.array([2,2,3])\n",
    "np.linalg.norm(vector3D)"
   ]
  },
  {
   "cell_type": "markdown",
   "id": "bc8eb733",
   "metadata": {},
   "source": [
    "### Unit Vectors\n",
    "\n",
    "Unit vector have a `unit norm`: `||x|| = 1` (remember this is L2)\n",
    "\n",
    "Any point in the circle is a unit vector, example:"
   ]
  },
  {
   "cell_type": "code",
   "execution_count": 10,
   "id": "50a7d06a",
   "metadata": {},
   "outputs": [
    {
     "data": {
      "text/plain": [
       "np.float64(0.999522385942406)"
      ]
     },
     "execution_count": 10,
     "metadata": {},
     "output_type": "execute_result"
    }
   ],
   "source": [
    "import numpy as np\n",
    "np.linalg.norm(np.array([.707, .707]))\n",
    "np.linalg.norm(np.array([.894, -.447]))"
   ]
  },
  {
   "cell_type": "markdown",
   "id": "e760e652",
   "metadata": {},
   "source": [
    "![unit_vectors.png](../media/img/unit_vectors.png)"
   ]
  },
  {
   "cell_type": "markdown",
   "id": "1a872a60",
   "metadata": {},
   "source": [
    "## Matrices\n",
    "\n",
    "![the_matrix_has_you.webp](../media/img/the_matrix_has_you.webp)\n",
    "\n",
    "A matrix is a collection of `elements` arranged in `rows` and `columns`.\n",
    "\n",
    "The `order` of a matrix describes how many rows and columns a matrix have, e.g. a matrix of order 3x5 (three by five) has 3 rows and 5 columns.\n",
    "\n",
    "Matrix are typically displayed surrounded by big brackets:\n",
    "\n",
    "![example_matrix_3_by_5.png](../media/img/example_matrix_3_by_5.png)\n",
    "\n",
    "> This image was generated at http://www.tlhiv.org/ltxpreview/ with this file [example_matrix_3_by_5.tex](../scripts/latex/example_matrix_3_by_5.tex)\n",
    "\n",
    "Image above shows:\n",
    "\n",
    "- The matrix ***A***, you can use any letter to named a matrix.\n",
    "- In algebra the letter used to represent a matrix **is typically in bold, uppercase and italic** so it can be distinguished from other types of variables.\n",
    "- The position of each element is identified with a subscript where the first number is the row, and the second is the column.\n",
    "- Typically, the same letter used to represent the entire matrix is used to represent a specific element but in lowercase.\n",
    "- Instead of `x` and `y`, as in the cartesian plane, we use `i` and `j` when talking about matrices.\n",
    "\n",
    "When talking about a matrix of unkown order this `m by n` is used:\n",
    "\n",
    "![m_by_n_matrix.png](../media/img/m_by_n_matrix.png)\n",
    "\n",
    "> This image was generated at http://www.tlhiv.org/ltxpreview/ with this file [m_by_n_matrix.tex](../scripts/latex/m_by_n_matrix.tex)\n",
    "\n",
    "💡 When a matrix has the same number of rows and column is called `square matrix`.\n",
    "\n",
    "When you want to refer to a specific element in the matrix you need to use the subscript e.g. `a₂,₁`.\n",
    "\n",
    "Matrices are typically composed of elements that belong to a common field, such as real numbers, complex numbers, or integers. Mixing different types of numbers within a single matrix isn't inherently invalid, but it may not always make sense depending on the context of the problem you're working on.\n",
    "\n",
    "Anyways, math teachers like to create this type of scenarios to test your abilities:\n",
    "\n",
    "![matrix_with_mixed_real_numbers.png](../media/img/matrix_with_mixed_real_numbers.png)\n",
    "\n",
    "> This image was generated at http://www.tlhiv.org/ltxpreview/ with this file [matrix_with_mixed_real_numbers.tex](../scripts/latex/matrix_with_mixed_real_numbers.tex)"
   ]
  },
  {
   "cell_type": "markdown",
   "id": "5a397a43",
   "metadata": {},
   "source": [
    "\n",
    "### Main Diagonal\n",
    "\n",
    "The main diagonal of a matrix consists of those elements that lie on the diagonal that runs from top left to bottom right.\n",
    "\n",
    "![main_diagonal.png](../media/img/main_diagonal.png)"
   ]
  },
  {
   "cell_type": "markdown",
   "id": "a9742603",
   "metadata": {},
   "source": [
    "Get main diagonal"
   ]
  },
  {
   "cell_type": "code",
   "execution_count": 19,
   "id": "592e8f3d",
   "metadata": {},
   "outputs": [
    {
     "name": "stdout",
     "output_type": "stream",
     "text": [
      "[[1 2 3]\n",
      " [4 5 6]\n",
      " [7 8 9]]\n",
      "Main Diagonal:\n",
      "[1 5 9]\n"
     ]
    }
   ],
   "source": [
    "import numpy as np\n",
    "A = np.array([[1, 2, 3],[4, 5, 6], [7, 8, 9]])\n",
    "print(A)\n",
    "\n",
    "print(\"Main Diagonal:\")\n",
    "print(A.diagonal())"
   ]
  },
  {
   "cell_type": "markdown",
   "id": "6d5bb6a0",
   "metadata": {},
   "source": [
    "### Transpose Of A Matrix\n",
    "\n",
    "The transpose of a matrix is obtained by transforming each row into a column. \n",
    "\n",
    "![transpose_not_square.png](../media/img/transpose_not_square.png)\n",
    "\n",
    "The transpose of a SQUARE matrix is an operator which flips a matrix over its diagonal, you can obtain the same result by transforming each row into a column.\n",
    "\n",
    "![transpose_square.png](../media/img/transpose_square.png)\n",
    "\n",
    "A matrix transpose is noted with a superscript `T`:\n",
    "\n",
    "![transpose_notation.png](../media/img/transpose_notation.png)"
   ]
  },
  {
   "cell_type": "markdown",
   "id": "9dc76a60",
   "metadata": {},
   "source": [
    "Transpose in Numpy:"
   ]
  },
  {
   "cell_type": "code",
   "execution_count": 22,
   "id": "efb4365b",
   "metadata": {},
   "outputs": [
    {
     "name": "stdout",
     "output_type": "stream",
     "text": [
      "[[ 6  4 24]\n",
      " [ 1 -9  8]]\n",
      "Transpose:\n"
     ]
    },
    {
     "data": {
      "text/plain": [
       "array([[ 6,  1],\n",
       "       [ 4, -9],\n",
       "       [24,  8]])"
      ]
     },
     "execution_count": 22,
     "metadata": {},
     "output_type": "execute_result"
    }
   ],
   "source": [
    "import numpy as np\n",
    "A = np.array([[6,4,24],[1,-9,8]])\n",
    "print(A)\n",
    "AT = A.transpose()\n",
    "print(\"Transpose:\")\n",
    "AT"
   ]
  },
  {
   "cell_type": "markdown",
   "id": "e241bfe6",
   "metadata": {},
   "source": [
    "\n",
    "### Select Rows, Columns, And Elements In Numpy\n",
    "\n",
    "\n",
    "Matrix for the examples:"
   ]
  },
  {
   "cell_type": "code",
   "execution_count": null,
   "id": "c613833e",
   "metadata": {},
   "outputs": [],
   "source": [
    "import numpy as np\n",
    "A = np.array([[6,4,24],[1,-9,8]])\n",
    "A"
   ]
  },
  {
   "cell_type": "markdown",
   "id": "ad6259ae",
   "metadata": {},
   "source": [
    "- Select a row:"
   ]
  },
  {
   "cell_type": "code",
   "execution_count": null,
   "id": "23da571c",
   "metadata": {},
   "outputs": [],
   "source": [
    "A[0]"
   ]
  },
  {
   "cell_type": "markdown",
   "id": "761c7f82",
   "metadata": {},
   "source": [
    "> In contrast to math theory, in most programming languages the index start at 0"
   ]
  },
  {
   "cell_type": "markdown",
   "id": "837dc0b8",
   "metadata": {},
   "source": [
    "- Select multiple rows:"
   ]
  },
  {
   "cell_type": "markdown",
   "id": "f6966010",
   "metadata": {},
   "source": [
    "  Syntax:\n",
    "\n",
    "  ```\n",
    "  nameOfTheMatrix[start:end]\n",
    "  ```\n",
    "\n",
    "  Select rows starting from `start` index up to (**but not including**) the `end` index."
   ]
  },
  {
   "cell_type": "code",
   "execution_count": null,
   "id": "b023f1a5",
   "metadata": {},
   "outputs": [],
   "source": [
    "# Select colum 0 and 1:\n",
    "A[0:2]"
   ]
  },
  {
   "cell_type": "markdown",
   "id": "a3f6f14d",
   "metadata": {},
   "source": [
    "- Select a single column:"
   ]
  },
  {
   "cell_type": "code",
   "execution_count": null,
   "id": "dcecf8df",
   "metadata": {},
   "outputs": [],
   "source": [
    "# select column 1:\n",
    "A[:,1]"
   ]
  },
  {
   "cell_type": "markdown",
   "id": "f961e158",
   "metadata": {},
   "source": [
    "- Select multiple columns:"
   ]
  },
  {
   "cell_type": "code",
   "execution_count": null,
   "id": "0ce8d80a",
   "metadata": {},
   "outputs": [],
   "source": [
    "# select columns 1 and 2:\n",
    "A[:,1:3]"
   ]
  },
  {
   "cell_type": "markdown",
   "id": "31552865",
   "metadata": {},
   "source": [
    "- Select specific element:"
   ]
  },
  {
   "cell_type": "code",
   "execution_count": null,
   "id": "5e0a7299",
   "metadata": {},
   "outputs": [],
   "source": [
    "# first select the desired row or column:\n",
    "A[:,1] # this time I choose colum 1\n",
    "# Then select the specific element:\n",
    "A[:,1][1] # this time I added the element at index 1"
   ]
  },
  {
   "cell_type": "markdown",
   "id": "931bd709",
   "metadata": {},
   "source": [
    "\n",
    "### Symmetric Matrix\n",
    "\n",
    "It is an special square matrix where elements are symmetric respect to the main diagonal.\n",
    "\n",
    "![Symmetric-matrix.png](../media/img/Symmetric-matrix.png)\n",
    "\n",
    "![important.gif](../media/img/important.gif)\n",
    "\n",
    "**IMPORTANT**: The symmetric matrix is equal to its transpose:\n",
    "\n",
    "```\n",
    "A = A^T\n",
    "```"
   ]
  },
  {
   "cell_type": "markdown",
   "id": "306ebe6b",
   "metadata": {},
   "source": [
    "### Diagonal Matrix\n",
    "\n",
    "A square matrix is called a diagonal matrix if nondiagonal entries are all zero, the main diagonal can be constants or zeros:\n",
    "\n",
    "![diagonal-matrix.png](../media/img/diagonal-matrix.png)"
   ]
  },
  {
   "cell_type": "markdown",
   "id": "ae09d84d",
   "metadata": {},
   "source": [
    "### Identity Matrix\n",
    "\n",
    "It is a symmetric matrix where every element along the main diagonal is 1, all other elements are 0.\n",
    "\n",
    "We usually use the `I` (upper case i) to denote this matrix and a subscript that represents the rows and columns (we just write one number since it is a square matrix):\n",
    "\n",
    "![identity_matrix.png](../media/img/identity_matrix.png)"
   ]
  },
  {
   "cell_type": "markdown",
   "id": "55a85b67",
   "metadata": {},
   "source": [
    "### Inverse Of A Matrix\n",
    "\n",
    "The inverse of a matrix is another matrix that, when multiplied by the original matrix, yields the identity matrix\n",
    "\n",
    "```\n",
    " A · B = I\n",
    " B · A = I\n",
    "```\n",
    "\n",
    "> This is the standard matrix multiplication **NOT** the hadamard product.\n",
    "\n",
    "B is called the inverse of A and it is denoted as `A^-1`, so another way yo write the same is:\n",
    "\n",
    "```\n",
    "  A · A^-1 = I\n",
    "  A^-1 · A = I\n",
    "```\n",
    "\n",
    "Not all matrices have inverses.\n",
    "  - A matrix must be square (have the same number of rows and columns)\n",
    "  - and be `non-singular` (its determinant must be non-zero) to have an inverse.\n",
    "\n",
    "Let's see an example with Python:"
   ]
  },
  {
   "cell_type": "code",
   "execution_count": null,
   "id": "ada9726f",
   "metadata": {},
   "outputs": [],
   "source": [
    "A = np.array([[4,-10], [3,2]])\n",
    "print(\"Matrix A:\", A, end=\"\\n\\n\", sep=\"\\n\")\n",
    "\n",
    "# Let's check if the determinant is non-zero:\n",
    "print(\"determinat of A:\", np.linalg.det(A), end=\"\\n\\n\", sep=\"\\n\")\n",
    "\n",
    "I = np.array([[1/19,5/19], [-3/38, 2/19]])\n",
    "print(\"Matrix I:\", I, end=\"\\n\\n\", sep=\"\\n\")\n",
    "\n",
    "# let's see if this other matrix is the inverse:\n",
    "print(\"dot product AI:\", np.dot(A, I), end=\"\\n\\n\", sep=\"\\n\")\n",
    "print(\"dot product IA:\", np.dot(I, A), end=\"\\n\\n\", sep=\"\\n\")"
   ]
  },
  {
   "cell_type": "markdown",
   "id": "c1a2cc1a",
   "metadata": {},
   "source": [
    "### Matrix Operations\n",
    "\n",
    "#### Multiplication By A Scalar\n",
    "\n",
    "`Scalars` are numbers that scale or stretch other mathematical objects without changing their direction. Scalars are NOT elements within a matrix, they are just real numbers.\n",
    "\n",
    "When you multiply a matrix by a scalar, you simply multiply each element of the matrix by that scalar. If `A` is a matrix and `k` is a scalar, the result of multiplying `A` by `k` is denoted as `kA`.\n",
    "\n",
    "![matrix_miltiplied_by_scalar.png](../media/img/matrix_multiplied_by_scalar.png)\n",
    "\n",
    "> This image was generated at http://www.tlhiv.org/ltxpreview/ with this file [matrix_multiplied_by_scalar.tex](../scripts/latex/matrix_multiplied_by_scalar.tex)\n",
    "\n",
    "Using Numpy:"
   ]
  },
  {
   "cell_type": "code",
   "execution_count": null,
   "id": "6ba16e7e",
   "metadata": {},
   "outputs": [],
   "source": [
    "import numpy as np\n",
    "A = np.array([[2,5,2,2,9], [4,2,3,7,3], [3,1,1,6,8]])\n",
    "-2*A"
   ]
  },
  {
   "cell_type": "code",
   "execution_count": null,
   "id": "2e18adae",
   "metadata": {},
   "outputs": [],
   "source": [
    "# or use the multiply method\n",
    "np.multiply(A, -2)"
   ]
  },
  {
   "cell_type": "markdown",
   "id": "01851f59",
   "metadata": {},
   "source": [
    "#### Adding And Subtracting Matrices\n",
    "\n",
    "IMPORTANT: **ONLY** if you have two matrices of the same order you can add or subtract them.\n",
    "\n",
    "\n",
    "- Addition:\n",
    "\n",
    "  ![add_matrices.png](../media/img/add_matrices.png)\n",
    "\n",
    "  > This image was generated at http://www.tlhiv.org/ltxpreview/ with this file [add_matrices.tex](../scripts/latex/add_matrices.tex)\n",
    "\n",
    "- Subtraction:\n",
    "\n",
    "  ![subtract_matrices.png](../media/img/subtract_matrices.png)\n",
    "\n",
    "  > This image was generated at http://www.tlhiv.org/ltxpreview/ with this file [subtract_matrices.tex](../scripts/latex/subtract_matrices.tex)\n",
    "\n",
    "\n",
    "\n"
   ]
  },
  {
   "cell_type": "markdown",
   "id": "ba3d44fd",
   "metadata": {},
   "source": [
    "#### Matrix Multiplication\n",
    "\n",
    "**IMPORTANT**: There is a big rule for multiplying matrices and tha is the number of columns in the first matrix should be the same as te number of rows in the second matrix, in other words:\n",
    "\n",
    "![rule_for_matrix_multiplication.png](../media/img/rule_for_matrix_multiplication.png)\n",
    "\n",
    "Example:\n",
    "\n",
    "![matrix_multiplication.gif](../media/img/matrix_multiplication.gif)\n",
    "\n",
    "![matrix_multiplication.png](../media/img/matrix_multiplication.png)"
   ]
  },
  {
   "cell_type": "markdown",
   "id": "4f8001cd",
   "metadata": {},
   "source": [
    "#### Hadamard Product\n",
    "\n",
    "In mathematics, the Hadamard product (also known as the element-wise product, entrywise product[1]: ch. 5  or Schur product[2]) is a binary operation that takes in two matrices of the same dimensions and returns a matrix of the multiplied corresponding elements.\n",
    "\n",
    "This operation can be thought as a \"naive matrix multiplication\" and is different from the matrix product. \n",
    "\n",
    "The Hadamard product A ⊙ B (sometimes A ∘ B)\n",
    "\n",
    "![hadamard_product.png](../media/img/hadamard_product.png)"
   ]
  },
  {
   "cell_type": "markdown",
   "id": "09f08d36",
   "metadata": {},
   "source": [
    "### Determinants\n",
    "\n",
    "A determinant is a real number found in every `squared` matrix.\n",
    "\n",
    "It is used to solve systems of linear equations.\n",
    "\n",
    "- Find the determinant of a 2x2 matrix:\n",
    "\n",
    "  Having this system of linear equations:\n",
    "\n",
    "  ```\n",
    "  2x+3y = 11\n",
    "  4x−y = 5\n",
    "  ```\n",
    "\n",
    "  We can represent the system in a matrix:\n",
    "\n",
    "  ```\n",
    "  | 2   3 |\n",
    "  | 4  -1 |\n",
    "  ```\n",
    "\n",
    "  > Determinant syntax usually uses a straight line instead of brackets.\n",
    "\n",
    "  Now let's use this method to find the determinant:\n",
    "\n",
    "  ![determinants_2x2.jpg](../media/img/determinants_2x2.jpg)\n",
    "\n",
    "  ```\n",
    "      | 2   3 |\n",
    "  A = | 4  -1 |\n",
    "\n",
    "  det(A) = (2*-1) - (3*4) = -2 - 12 = -14\n",
    "  ```\n",
    "- Find the determinant of a 3x3 matrix:\n",
    "\n",
    "  ![determinants_3x3.jpg](../media/img/determinants_3x3.jpg)"
   ]
  },
  {
   "cell_type": "markdown",
   "id": "e2153a5e",
   "metadata": {},
   "source": [
    "### Cramer's Rule\n",
    "\n",
    "The cramer's rule uses determinants to solve systems of linear equations.\n",
    "\n",
    "![cramersrulenotes.jpg](../media/img/cramersrulenotes.jpg)\n",
    "\n",
    "- In the image above `a`, `b`, `e`, `c`, `d` and `f` are constants.\n",
    "\n",
    "- Basically you need to find the determinant in the numerator and divide the result by the determinant in the denominator.\n",
    "\n",
    "Calculate the determinant using Python:"
   ]
  },
  {
   "cell_type": "code",
   "execution_count": null,
   "id": "c4dbb32e",
   "metadata": {},
   "outputs": [],
   "source": [
    "A = np.array([[2,3], [4,-1]])\n",
    "np.linalg.det(A)"
   ]
  },
  {
   "cell_type": "markdown",
   "id": "75cf1370",
   "metadata": {},
   "source": [
    "### Operations With Vectors\n",
    "\n",
    "A vector is a mathematical object that represents a quantity with both `magnitude` and `  `.\n",
    "\n",
    "A vector may look like a 1xN matrix:\n",
    "\n",
    "![vectors.png](../media/img/vectors.png)\n",
    "\n",
    "\n",
    "> A `unit vector` is a vector with magnitude 1. \n",
    "\n",
    "Vector can represent 2 dimensional object:\n",
    "\n",
    "```\n",
    "[x, y]\n",
    "```\n",
    "\n",
    "Three dimensional objects:\n",
    "\n",
    "```\n",
    "[x, y, z]\n",
    "```\n",
    "\n",
    "![xyz_plane.png](../media/img/xyz_plane.png)\n",
    "\n",
    "\n",
    "Or N dimensional objects."
   ]
  },
  {
   "cell_type": "markdown",
   "id": "cc2ecd09",
   "metadata": {},
   "source": [
    "#### Dot Product\n",
    "\n",
    "The dot product of two vectors is a scalar quantity obtained by multiplying corresponding components of the vectors and then summing up these products.\n",
    "\n",
    "![dot_product.png](../media/img/dot_product.png)\n",
    "\n",
    "> Note: numpy use the dot method for `matrix multiplication`, for some reason they use that name but mathematically speaking, dot product is what is mentioned above."
   ]
  },
  {
   "cell_type": "markdown",
   "id": "e6f2053d",
   "metadata": {},
   "source": [
    "### EigenVectors and EigenValues\n",
    "\n",
    "**Some** matrices have associated vectors than when multiplied by the matrix they are only stretched or shrunk but not rotated. These vector are called `eigenvectors`.\n",
    "\n",
    "The value that stretches or shrinks the vector is a scalar value called `eigenvalue`.\n",
    "\n",
    "> Eigen is German for \"typical\", we could translate eigenvector to `characteristic vector`.\n",
    "\n",
    "Eigenvectors and eigenvalues satisfy the following equation:\n",
    "\n",
    "```\n",
    "Av=λv\n",
    "```\n",
    "\n",
    "Where:\n",
    "\n",
    "- `A` is the matrix\n",
    "- `v` is the eigenvector\n",
    "- `λ` lambda, it is the eigenvalue\n",
    "\n",
    "\n",
    "\n",
    "Example:\n",
    "\n",
    "Import Pytorch:"
   ]
  },
  {
   "cell_type": "markdown",
   "id": "4484d738",
   "metadata": {},
   "source": [
    "> PyTorch is an open-source deep learning framework that’s known for its flexibility and ease-of-use. This is enabled in part by its compatibility with the popular Python high-level programming language favored by machine learning developers and data scientists. \n"
   ]
  },
  {
   "cell_type": "code",
   "execution_count": null,
   "id": "6cfa5f9f",
   "metadata": {},
   "outputs": [],
   "source": [
    "import torch\n",
    "A = torch.tensor([[25., 2., 9.], [5., 26., -5.], [3., 7., -1.]])\n",
    "eValues, eVectors = torch.linalg.eig(A)\n",
    "print(eValues)\n",
    "print(eVectors)"
   ]
  },
  {
   "cell_type": "markdown",
   "id": "660e423d",
   "metadata": {},
   "source": [
    "In some scenarios the items are complex numbers, let's cast the values just to keep the example simple:\n",
    "\n",
    "> You may see the following warning: `Casting complex values to real discards the imaginary part`"
   ]
  },
  {
   "cell_type": "code",
   "execution_count": null,
   "id": "31a8a94a",
   "metadata": {},
   "outputs": [],
   "source": [
    "eValues = eValues.float()\n",
    "eVectors = eVectors.float()\n",
    "print(eValues)\n",
    "print(eVectors)"
   ]
  },
  {
   "cell_type": "markdown",
   "id": "035c6cf1",
   "metadata": {},
   "source": [
    "Finally check if `Av=λv`:"
   ]
  },
  {
   "cell_type": "code",
   "execution_count": null,
   "id": "a59483a9",
   "metadata": {},
   "outputs": [],
   "source": [
    "print(\"Av=\", torch.matmul(A, eVectors[:,0]))\n",
    "print(\"λv=\", eValues[0]*eVectors[:,0])"
   ]
  },
  {
   "cell_type": "markdown",
   "id": "741da1e4",
   "metadata": {},
   "source": [
    "> note we are multiplying only for one of the eigenvectors and one of the eigenvalues\n"
   ]
  }
 ],
 "metadata": {
  "kernelspec": {
   "display_name": ".venv",
   "language": "python",
   "name": "python3"
  },
  "language_info": {
   "codemirror_mode": {
    "name": "ipython",
    "version": 3
   },
   "file_extension": ".py",
   "mimetype": "text/x-python",
   "name": "python",
   "nbconvert_exporter": "python",
   "pygments_lexer": "ipython3",
   "version": "3.12.3"
  }
 },
 "nbformat": 4,
 "nbformat_minor": 5
}
